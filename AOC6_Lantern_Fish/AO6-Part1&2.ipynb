{
 "cells": [
  {
   "cell_type": "markdown",
   "metadata": {},
   "source": [
    "# Day 6: Lantern Fish\n",
    "### Begin with testing using the given example, stored as lanterntest.txt"
   ]
  },
  {
   "cell_type": "markdown",
   "metadata": {},
   "source": [
    "For part 1 we can use a brute force approach to run the simulation."
   ]
  },
  {
   "cell_type": "code",
   "execution_count": 22,
   "metadata": {},
   "outputs": [
    {
     "name": "stdout",
     "output_type": "stream",
     "text": [
      "[5, 1, 1, 1, 3, 5, 1, 1, 1, 1]\n"
     ]
    }
   ],
   "source": [
    "# filePath = \"lanterntest.txt\"\n",
    "filePath = \"lanternfish.txt\"\n",
    "\n",
    "with open(filePath,\"r\") as puzzleInput:\n",
    "    input = [line for line in puzzleInput][0].split(\",\") # first line only\n",
    "lanternfish = [int(item) for item in input]\n",
    "print(lanternfish[0:10])"
   ]
  },
  {
   "cell_type": "code",
   "execution_count": 23,
   "metadata": {},
   "outputs": [],
   "source": [
    "def run_sim(lanternfish,days):\n",
    "    for _ in range(days):\n",
    "        nextday = []\n",
    "        for i in (lanternfish):\n",
    "            if i==0: # if value is 0, reset to 6, add a new fish\n",
    "                nextday.append(6)\n",
    "                nextday.append(8)\n",
    "            else: # otherwise minus 1 from the timer value for the fish\n",
    "                nextday.append(i-1)\n",
    "        lanternfish = nextday\n",
    "    return lanternfish"
   ]
  },
  {
   "cell_type": "code",
   "execution_count": 24,
   "metadata": {},
   "outputs": [],
   "source": [
    "# lanternfish = run_sim(lanternfish,days=80)\n",
    "# print(len(lanternfish))"
   ]
  },
  {
   "cell_type": "markdown",
   "metadata": {},
   "source": [
    "Part 2 wants asks the same question but after 256 days, which will take to long for the computer to possibly run. New approach needed."
   ]
  },
  {
   "cell_type": "code",
   "execution_count": 25,
   "metadata": {},
   "outputs": [
    {
     "name": "stdout",
     "output_type": "stream",
     "text": [
      "Counter({1: 175, 4: 36, 2: 34, 5: 30, 3: 25})\n"
     ]
    }
   ],
   "source": [
    "from collections import Counter\n",
    "\n",
    "currTotals = Counter(lanternfish) # returns dict count of each number for the fish\n",
    "print(currTotals)"
   ]
  },
  {
   "cell_type": "code",
   "execution_count": 26,
   "metadata": {},
   "outputs": [
    {
     "data": {
      "text/plain": [
       "1708791884591"
      ]
     },
     "execution_count": 26,
     "metadata": {},
     "output_type": "execute_result"
    }
   ],
   "source": [
    "def part2_run_sim(currTotals,days):\n",
    "    for _ in range(days):\n",
    "        nextTotals = dict(zip(list(range(9)),[0]*9)) # dict keys possible timer and 0 value\n",
    "        for key,itemTotal in currTotals.items():\n",
    "            # items returns list of all dictionary key value pairs {'timer value': itemTotal}\n",
    "            # some people call dictionaries 'maps' as they are in cpp\n",
    "            if key == 0:\n",
    "                nextTotals[8] += itemTotal\n",
    "                nextTotals[6] += itemTotal\n",
    "            else:\n",
    "                nextTotals[key-1] += itemTotal \n",
    "        currTotals = nextTotals\n",
    "    return sum(currTotals.values())\n",
    "\n",
    "part2_run_sim(currTotals,256)"
   ]
  }
 ],
 "metadata": {
  "kernelspec": {
   "display_name": "Python 3.9.13 64-bit (windows store)",
   "language": "python",
   "name": "python3"
  },
  "language_info": {
   "codemirror_mode": {
    "name": "ipython",
    "version": 3
   },
   "file_extension": ".py",
   "mimetype": "text/x-python",
   "name": "python",
   "nbconvert_exporter": "python",
   "pygments_lexer": "ipython3",
   "version": "3.9.13"
  },
  "orig_nbformat": 4,
  "vscode": {
   "interpreter": {
    "hash": "33035f574c9eef7ff8f01ee9196493be394cff9983d3f5cb1ef2b1416a6aa12a"
   }
  }
 },
 "nbformat": 4,
 "nbformat_minor": 2
}
