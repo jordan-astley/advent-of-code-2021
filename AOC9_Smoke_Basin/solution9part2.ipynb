{
 "cells": [
  {
   "cell_type": "code",
   "execution_count": 11,
   "metadata": {},
   "outputs": [],
   "source": [
    "filename = 'input9.txt'\n",
    "with open(filename,'r') as infile:\n",
    "    lines = [list(line) for line in infile.read().strip().split()]\n",
    "    # lines = [int(number) for elem in lines for number in elem]\n",
    "    input = [[int(number) for number in line] for line in lines]"
   ]
  },
  {
   "cell_type": "code",
   "execution_count": 12,
   "metadata": {},
   "outputs": [
    {
     "name": "stdout",
     "output_type": "stream",
     "text": [
      "[2, 1, 9, 9, 9, 4, 3, 2, 1, 0]\n",
      "[3, 9, 8, 7, 8, 9, 4, 9, 2, 1]\n",
      "[9, 8, 5, 6, 7, 8, 9, 8, 9, 2]\n",
      "[8, 7, 6, 7, 8, 9, 6, 7, 8, 9]\n",
      "[9, 8, 9, 9, 9, 6, 5, 6, 7, 8]\n"
     ]
    }
   ],
   "source": [
    "# first work out algorithm for the example\n",
    "test = ['2199943210','3987894921','9856789892','8767896789','9899965678']\n",
    "# test = [[int(number) for number in line.split()] for line in test]\n",
    "test = [[int(number) for number in list(line)] for line in test]\n",
    "\n",
    "for i in test:\n",
    "    print(i)"
   ]
  },
  {
   "cell_type": "code",
   "execution_count": 13,
   "metadata": {},
   "outputs": [
    {
     "name": "stdout",
     "output_type": "stream",
     "text": [
      "0\n"
     ]
    }
   ],
   "source": [
    "test1 = [[2, 1, 9, 9, 9, 4, 3, 2, 1, 0],\n",
    "         [3, 9, 8, 7, 8, 9, 4, 9, 2, 1],\n",
    "         [9, 8, 5, 6, 7, 8, 9, 8, 9, 2],\n",
    "         [8, 7, 6, 7, 8, 9, 6, 7, 8, 9],\n",
    "         [9, 8, 9, 9, 9, 6, 5, 6, 7, 8]]\n",
    "\n",
    "import assign_adjacent_locs as indexfindtool\n",
    "# dodgy massive function  below #\n",
    "# y = row, x = col (number in row) [y][x]\n",
    "def determine_if_low_point(input: list, xy: tuple):\n",
    "    aal = indexfindtool.assign_adjacent_locs(input, xy) # obj containing adjacent points in each instance\n",
    "    x, y = xy\n",
    "    # print(aal.value, aal.up, aal.down, aal.left, aal.right)\n",
    "    \n",
    "    # top row #\n",
    "    if y == 0:\n",
    "        # top left #\n",
    "        if x == 0:\n",
    "            if all(i > aal.value for i in (aal.down, aal.right)):\n",
    "                return aal.value\n",
    "            else: \n",
    "                return None\n",
    "        # top right #\n",
    "        elif x == aal.inputWidthIndex:\n",
    "            if all(i > aal.value for i in (aal.down, aal.left)):\n",
    "                return aal.value\n",
    "            else: \n",
    "                return None\n",
    "        # top edge #\n",
    "        elif all(i > aal.value for i in (aal.down, aal.left, aal.right)):\n",
    "            return aal.value\n",
    "        else:\n",
    "            return None\n",
    "    \n",
    "    # bottom row #\n",
    "    if y == aal.inputHeightIndex:\n",
    "        # bottom left #\n",
    "        if x == 0:\n",
    "            if all(i > aal.value for i in (aal.up, aal.right)):\n",
    "                return aal.value\n",
    "            else: \n",
    "                return None\n",
    "        # bottom right #\n",
    "        elif x == aal.inputWidthIndex:\n",
    "            if all(i > aal.value for i in (aal.up, aal.left)):\n",
    "                return aal.value\n",
    "            else: \n",
    "                return None\n",
    "        # bottom edge #\n",
    "        elif all(i > aal.value for i in (aal.up, aal.left, aal.right)):\n",
    "            return aal.value\n",
    "        else:\n",
    "            return None\n",
    "    \n",
    "    # left edge #\n",
    "    if x == 0:\n",
    "        if y not in (0, aal.inputHeightIndex): # check not corner\n",
    "            if all(i > aal.value for i in (aal.up, aal.down, aal.right)):\n",
    "                return aal.value\n",
    "            else:\n",
    "                return None\n",
    "    # right edge #\n",
    "    if x == aal.inputWidthIndex:\n",
    "        if y not in (0, aal.inputHeightIndex): # check not corner\n",
    "            if all(i > aal.value for i in (aal.up, aal.down, aal.left)):\n",
    "                return aal.value\n",
    "            else:\n",
    "                return None\n",
    "\n",
    "    # middle #\n",
    "    else:\n",
    "        if all(i > aal.value for i in (aal.up, aal.down, aal.left, aal.right)):\n",
    "            return aal.value\n",
    "        else:\n",
    "            return None\n",
    "        \n",
    "\n",
    "# low point defined as individual point that is surrounded by points that are larger than itself\n",
    "\n",
    "x = determine_if_low_point(test1, (9,0))\n",
    "print(x)"
   ]
  },
  {
   "cell_type": "code",
   "execution_count": 14,
   "metadata": {},
   "outputs": [
    {
     "name": "stdout",
     "output_type": "stream",
     "text": [
      "[(1, (1, 0)), (0, (9, 0)), (5, (2, 2)), (5, (6, 4))]\n"
     ]
    }
   ],
   "source": [
    "# previously all non lowpoints returned False, \n",
    "# this made errors when the lowpoint was 0 which is == to False\n",
    "def mainloop(input):\n",
    "    lowPoints = []\n",
    "    for y in range(len(input)):\n",
    "        for x in range(len(input[y])):\n",
    "            out = determine_if_low_point(input, (x,y))\n",
    "            if out != None: \n",
    "                lowPoints.append((out, (x,y)))\n",
    "\n",
    "    print(lowPoints)\n",
    "    return lowPoints\n",
    "\n",
    "lowPoints = mainloop(test) # list of points and their location in 2d list"
   ]
  },
  {
   "cell_type": "code",
   "execution_count": 26,
   "metadata": {},
   "outputs": [
    {
     "name": "stdout",
     "output_type": "stream",
     "text": [
      "5 2 2\n",
      "[3, 4, 5, 6, 7, 8, 9]\n"
     ]
    }
   ],
   "source": [
    "# loop over each of the points that are found, and create a basin for each\n",
    "def find_basin(input, lowPoint):\n",
    "    val, x, y = (lowPoint[0], lowPoint[1][0], lowPoint[1][1]) \n",
    "    print(val, x, y)\n",
    "    basin = 1 # starts at one since every point is a basin\n",
    "\n",
    "    # obj containing adjacent points in each instance\n",
    "    aal = indexfindtool.assign_adjacent_locs(input, (x,y))\n",
    "    \n",
    "    move2Right = list(range(x+1, (aal.inputWidthIndex)+1, 1)) # list of indexes x -> Right Edge\n",
    "    print(move2Right)\n",
    "\n",
    "    for i in move2Right:\n",
    "        if input[i][y] \n",
    "\n",
    "\n",
    "find_basin(test, lowPoints[2])"
   ]
  }
 ],
 "metadata": {
  "kernelspec": {
   "display_name": "Python 3.9.13 64-bit (windows store)",
   "language": "python",
   "name": "python3"
  },
  "language_info": {
   "codemirror_mode": {
    "name": "ipython",
    "version": 3
   },
   "file_extension": ".py",
   "mimetype": "text/x-python",
   "name": "python",
   "nbconvert_exporter": "python",
   "pygments_lexer": "ipython3",
   "version": "3.9.13"
  },
  "orig_nbformat": 4,
  "vscode": {
   "interpreter": {
    "hash": "33035f574c9eef7ff8f01ee9196493be394cff9983d3f5cb1ef2b1416a6aa12a"
   }
  }
 },
 "nbformat": 4,
 "nbformat_minor": 2
}
