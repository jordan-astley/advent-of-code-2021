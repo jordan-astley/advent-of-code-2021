{
 "cells": [
  {
   "cell_type": "code",
   "execution_count": 32,
   "metadata": {},
   "outputs": [
    {
     "name": "stdout",
     "output_type": "stream",
     "text": [
      "[3, 5, 6, 7, 8, 9, 1, 9, 8, 7, 6, 4, 3, 4, 5, 7, 8, 9, 8, 8, 7, 9, 8, 7, 6, 5, 6, 7, 8, 9, 6, 5, 4, 3, 5, 6, 7, 9, 9, 9, 8, 3, 1, 0, 4, 5, 6, 9, 7, 6, 5, 4, 5, 6, 4, 5, 6, 7, 9, 2, 3, 9, 8, 9, 9, 9, 4, 3, 4, 5, 6, 7, 8, 9, 8, 7, 6, 7, 8, 7, 8, 9, 7, 3, 2, 3, 4, 9, 8, 8, 7, 6, 7, 5, 9, 7, 8, 9, 2, 1]\n"
     ]
    }
   ],
   "source": [
    "filename = 'input9.txt'\n",
    "with open(filename,'r') as infile:\n",
    "    lines = [list(line) for line in infile.read().strip().split()]\n",
    "    # lines = [int(number) for elem in lines for number in elem]\n",
    "    input = [[int(number) for number in line] for line in lines]\n",
    "print(input[0])"
   ]
  },
  {
   "cell_type": "code",
   "execution_count": 33,
   "metadata": {},
   "outputs": [
    {
     "name": "stdout",
     "output_type": "stream",
     "text": [
      "[2, 1, 9, 9, 9, 4, 3, 2, 1, 0]\n",
      "[3, 9, 8, 7, 8, 9, 4, 9, 2, 1]\n",
      "[9, 8, 5, 6, 7, 8, 9, 8, 9, 2]\n",
      "[8, 7, 6, 7, 8, 9, 6, 7, 8, 9]\n",
      "[9, 8, 9, 9, 9, 6, 5, 6, 7, 8]\n"
     ]
    }
   ],
   "source": [
    "# first work out algorithm for the example\n",
    "test = ['2199943210','3987894921','9856789892','8767896789','9899965678']\n",
    "# test = [[int(number) for number in line.split()] for line in test]\n",
    "test = [[int(number) for number in list(line)] for line in test]\n",
    "\n",
    "for i in test:\n",
    "    print(i)"
   ]
  },
  {
   "cell_type": "code",
   "execution_count": 52,
   "metadata": {},
   "outputs": [
    {
     "name": "stdout",
     "output_type": "stream",
     "text": [
      "[9, 8, 5, 6, 7, 8, 9, 8, 9, 2]\n",
      "5\n",
      "8 6 8 6\n"
     ]
    },
    {
     "data": {
      "text/plain": [
       "True"
      ]
     },
     "execution_count": 52,
     "metadata": {},
     "output_type": "execute_result"
    }
   ],
   "source": [
    "# low point defined as individual point that is surrounded by points that are larger than itself\n",
    "exampleIndex1 = (2,2)\n",
    "exampleIndex2 = (1,3)\n",
    "\n",
    "def determine_if_low_point(input: list, x,y):\n",
    "    up = input[y-1][x]\n",
    "    down = input[y+1][x]\n",
    "    left = input[y][x-1]\n",
    "    right = input[y][x+1]\n",
    "    print(input[y])\n",
    "    print(input[y][x])\n",
    "    print(up, down, left, right)\n",
    "    \n",
    "      \n",
    "    if x == 0: # check if left corner\n",
    "        if y == 0: # top left\n",
    "            ## some functionality\n",
    "        elif y == len(input)-1: # bottom left\n",
    "            ## some functionality\n",
    "\n",
    "    elif x == len(input[y])-1: # check if right corner\n",
    "        if y == 0: # top right\n",
    "            ## some functionality\n",
    "        elif y == len(input)-1: # bottom right\n",
    "            ## some functionality\n",
    "\n",
    "    elif x == 0 and (y != 0 or len(input)-1) # left edge\n",
    "    ### so on\n",
    "     and y != (0 or len(input)-1): # check if along an edge, but not corner\n",
    "     \n",
    "     \n",
    "\n",
    "    else: # not on edge or corner, must be in middle\n",
    "        if input[x][y] < (up and down and left and right):\n",
    "            return True\n",
    "        else:\n",
    "            return False\n",
    "    elif x == len(input)-1: \n",
    "\n",
    "\n",
    "determine_if_low_point(test, 2,2)        "
   ]
  },
  {
   "cell_type": "code",
   "execution_count": null,
   "metadata": {},
   "outputs": [],
   "source": []
  }
 ],
 "metadata": {
  "kernelspec": {
   "display_name": "Python 3.10.4 64-bit",
   "language": "python",
   "name": "python3"
  },
  "language_info": {
   "codemirror_mode": {
    "name": "ipython",
    "version": 3
   },
   "file_extension": ".py",
   "mimetype": "text/x-python",
   "name": "python",
   "nbconvert_exporter": "python",
   "pygments_lexer": "ipython3",
   "version": "3.10.4"
  },
  "orig_nbformat": 4,
  "vscode": {
   "interpreter": {
    "hash": "52634da84371cba311ea128a5ea7cdc41ff074b781779e754b270ff9f8153cee"
   }
  }
 },
 "nbformat": 4,
 "nbformat_minor": 2
}
