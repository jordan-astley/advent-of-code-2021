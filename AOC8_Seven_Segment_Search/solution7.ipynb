{
 "cells": [
  {
   "cell_type": "markdown",
   "metadata": {},
   "source": [
    "# Puzzle 8: Seven Segment Search"
   ]
  },
  {
   "cell_type": "markdown",
   "metadata": {},
   "source": [
    "This puzzle seems much more challenging than those that came before."
   ]
  },
  {
   "cell_type": "code",
   "execution_count": 113,
   "metadata": {},
   "outputs": [
    {
     "name": "stdout",
     "output_type": "stream",
     "text": [
      "['eadbcf faceb faecgd gdefabc adc ad adbf gfacbe bceda dcegb ', ' gdfcae adc cedbfa dafb']\n"
     ]
    }
   ],
   "source": [
    "filename = \"input8.txt\"\n",
    "with open(filename,\"r\") as infile:\n",
    "    input = [line.strip().split(\"|\") for line in infile]\n",
    "\n",
    "print(input[0])"
   ]
  },
  {
   "cell_type": "code",
   "execution_count": 114,
   "metadata": {},
   "outputs": [
    {
     "name": "stdout",
     "output_type": "stream",
     "text": [
      "['eadbcf', 'faceb', 'faecgd', 'gdefabc', 'adc', 'ad', 'adbf', 'gfacbe', 'bceda', 'dcegb'] ['gdfcae', 'adc', 'cedbfa', 'dafb']\n",
      "(['eadbcf', 'faceb', 'faecgd', 'gdefabc', 'adc', 'ad', 'adbf', 'gfacbe', 'bceda', 'dcegb'], ['gdfcae', 'adc', 'cedbfa', 'dafb'])\n"
     ]
    }
   ],
   "source": [
    "signalPatterns = [pattern[0].split() for pattern in input]\n",
    "outputValues = [value[1].split() for value in input]\n",
    "combinedData = list(zip(signalPatterns, outputValues))\n",
    "print(signalPatterns[0], outputValues[0])\n",
    "print(combinedData[0])"
   ]
  },
  {
   "cell_type": "markdown",
   "metadata": {},
   "source": [
    "### Part 1\n",
    "The seven segment displays of 1   4   7   8, are unique in that they each are the only values to use 2,4,3,7 segments to display their value on the seven segment display."
   ]
  },
  {
   "cell_type": "code",
   "execution_count": 115,
   "metadata": {},
   "outputs": [
    {
     "name": "stdout",
     "output_type": "stream",
     "text": [
      "adc 3\n",
      "dafb 4\n"
     ]
    },
    {
     "data": {
      "text/plain": [
       "2"
      ]
     },
     "execution_count": 115,
     "metadata": {},
     "output_type": "execute_result"
    }
   ],
   "source": [
    "# count each of the occurences of these values in output values (method 1)\n",
    "count = 0\n",
    "for value in combinedData[0][1]:\n",
    "    if len(value) in (2,3,4,7):\n",
    "        print(value, len(value))\n",
    "        count += 1\n",
    "count"
   ]
  },
  {
   "cell_type": "code",
   "execution_count": 116,
   "metadata": {},
   "outputs": [
    {
     "name": "stdout",
     "output_type": "stream",
     "text": [
      "In the output values, the digits 1, 4, 7, or 8 appear a total of <539> times\n"
     ]
    }
   ],
   "source": [
    "# method 2, use a dictionary (or map as its called cpp)\n",
    "\n",
    "# convert the list of output values to a flat list\n",
    "oneDimensionalOutputvalues = [value for row in outputValues for value in row]\n",
    "# list of the lengths of each output value using map func\n",
    "lengthsOfOutputValues = list(map(lambda x: len(x), oneDimensionalOutputvalues))\n",
    "\n",
    "# count the total occurences of each length (so occurences of unique seven segment digits)\n",
    "from collections import Counter as counter\n",
    "countsOfLengths = counter(lengthsOfOutputValues) # {}\n",
    "\n",
    "total = 0\n",
    "for k,v in countsOfLengths.items():\n",
    "    if k in (2,3,4,7): # the unique digits\n",
    "        total += v\n",
    "        # print(k, v)\n",
    "print(f\"In the output values, the digits 1, 4, 7, or 8 appear a total of <{total}> times\") # answer to part 1\n"
   ]
  },
  {
   "cell_type": "markdown",
   "metadata": {},
   "source": [
    "### Part 2\n",
    "Determine the remaining digits"
   ]
  },
  {
   "cell_type": "code",
   "execution_count": 117,
   "metadata": {},
   "outputs": [
    {
     "name": "stdout",
     "output_type": "stream",
     "text": [
      "['acedgfb', 'cdfbe', 'gcdfa', 'fbcad', 'dab', 'cefabd', 'cdfgeb', 'eafb', 'cagedb', 'ab']\n",
      "\n",
      "['cdfeb', 'fcadb', 'cdfeb', 'cdbaf']\n"
     ]
    }
   ],
   "source": [
    "#   0:     \n",
    "#  aaaa    \n",
    "# b    c  \n",
    "# b    c  \n",
    "#  dddd   \n",
    "# e    f  \n",
    "# e    f  \n",
    "#  gggg \n",
    "\n",
    "# load in the example from question\n",
    "testSignalPatterns = 'acedgfb cdfbe gcdfa fbcad dab cefabd cdfgeb eafb cagedb ab'.split()\n",
    "testOutputValues = \"cdfeb fcadb cdfeb cdbaf\".split()\n",
    "print(testSignalPatterns, testOutputValues, sep=\"\\n\\n\")"
   ]
  },
  {
   "cell_type": "markdown",
   "metadata": {},
   "source": [
    "Puzzle input consists of essentially line after line of the same type of scrambled codes. Each one is scrambled similarly as described in the puzzle description, but each line is a unique 'cypher', if it can be called that.\n",
    "\n",
    "Solved the example problem in the question, on paper. Next step is to design a set of functions to do this, so it can be performed quickly on every single line of the puzzle input."
   ]
  },
  {
   "cell_type": "code",
   "execution_count": 118,
   "metadata": {},
   "outputs": [
    {
     "name": "stdout",
     "output_type": "stream",
     "text": [
      "{'a': None, 'b': None, 'c': None, 'd': None, 'e': None, 'f': None, 'g': None}\n"
     ]
    }
   ],
   "source": [
    "lettersList = ['a', 'b', 'c', 'd', 'e', 'f', 'g']\n",
    "signalMapping = dict(list(zip(lettersList,[None]*10)))\n",
    "print(signalMapping)"
   ]
  },
  {
   "cell_type": "code",
   "execution_count": 119,
   "metadata": {},
   "outputs": [
    {
     "data": {
      "text/plain": [
       "{0: None,\n",
       " 1: 'ab',\n",
       " 2: None,\n",
       " 3: None,\n",
       " 4: 'eafb',\n",
       " 5: None,\n",
       " 6: None,\n",
       " 7: 'dab',\n",
       " 8: 'acedgfb',\n",
       " 9: None}"
      ]
     },
     "execution_count": 119,
     "metadata": {},
     "output_type": "execute_result"
    }
   ],
   "source": [
    "# possibly remove decode approach and reuse signal mapping variable name for number translated\n",
    "\n",
    "# finds the encoded numbers (1,4,8,7) by looking at their unique lenghts of (2,4,7,3) respectively\n",
    "# returns dictionary of numbers (keys) and encoded strings (values)\n",
    "def find_unique_lengths(signalPatterns):\n",
    "    numbersTranslated = dict(list(zip(list(range(0,10)),[None]*10)))\n",
    "    uniqueLengths = {2:1, 4:4, 7:8, 3:7} # {length:integer represented}\n",
    "\n",
    "    for item in signalPatterns:\n",
    "        if len(item) in uniqueLengths.keys():\n",
    "            numbersTranslated[uniqueLengths[len(item)]] = item\n",
    "\n",
    "    return numbersTranslated\n",
    "\n",
    "numbersTranslated = find_unique_lengths(testSignalPatterns)\n",
    "numbersTranslated"
   ]
  },
  {
   "cell_type": "markdown",
   "metadata": {},
   "source": [
    "The variable numbers translated will be used to compare to the output values to find out what integer they represent, in the puzzle input."
   ]
  },
  {
   "cell_type": "code",
   "execution_count": 125,
   "metadata": {},
   "outputs": [
    {
     "data": {
      "text/plain": [
       "'d'"
      ]
     },
     "execution_count": 125,
     "metadata": {},
     "output_type": "execute_result"
    }
   ],
   "source": [
    "# find the top segment signal code\n",
    "top = [i for i in numbersTranslated[7] if i not in numbersTranslated[1]][0]\n",
    "top"
   ]
  },
  {
   "cell_type": "markdown",
   "metadata": {},
   "source": [
    "Integer 1 is important as it contains only UR and LR segments. We can look at the three different signals with six segments. The pattern that does not contain both signals in the signal for 1, must be 6. This is because the three integers with 6 segments are 0, 6, and 9. 0 and 9 both incorporate the same segments as 1. "
   ]
  },
  {
   "cell_type": "code",
   "execution_count": 153,
   "metadata": {},
   "outputs": [
    {
     "name": "stdout",
     "output_type": "stream",
     "text": [
      "cdfgeb a ['a', 'b']\n"
     ]
    }
   ],
   "source": [
    "# Find all integers that use 6 segments, by filtering signalPatterns for len(6)\n",
    "def find_six(signalPatterns: list, numbersTranslated: dict ):\n",
    "    one = numbersTranslated[1]\n",
    "    signalsOfLengthSix = [s for s in signalPatterns if len(s) == 6]\n",
    "    six = [s for s in signalsOfLengthSix if one not in s][0]\n",
    "    UR = [s for s in list(one) if s not in list(six)][0]\n",
    "    BR = list(one)\n",
    "    return six, UR, BR\n",
    "\n",
    "six, UR, BR = find_six(testSignalPatterns, numbersTranslated)\n",
    "# add pattern for six to numberTranslated\n",
    "numbersTranslated[6] = six\n",
    "print(six, UR, BR)\n",
    "\n"
   ]
  },
  {
   "cell_type": "markdown",
   "metadata": {},
   "source": [
    "Find the middle segment, which allows us to distinguish between 0 and 9 integer signal patterns. We do this by looking at the remaining length 6 integer signal patterns and finding the signal characters (a ~ g, excluding the known characters), of which there are three. Comparing to the pattern for 8, the only pattern of length 7, we will see one pattern contains a unique character - this it the BL. \n",
    "\n",
    "In addition if we compare the (now) remaining two patterns, with only three characters remaining in each, one of the characters will also be present in all other signal patterns of length five (integers 2,3,5), this is the middle segment.\n",
    "\n",
    "As a consequence of this we will know the signal pattern of 9 since in the initial set of patterns of length 6, it is the only one to lack the BL segment. Thus 0 will be the other pattern. "
   ]
  },
  {
   "cell_type": "code",
   "execution_count": null,
   "metadata": {},
   "outputs": [],
   "source": [
    "def find_zero_and_nine()"
   ]
  },
  {
   "cell_type": "markdown",
   "metadata": {},
   "source": [
    "The functions below are called on the output values after the | demlimiter"
   ]
  },
  {
   "cell_type": "code",
   "execution_count": 122,
   "metadata": {},
   "outputs": [],
   "source": [
    "# # for testing\n",
    "# encodedlist = ['d', 'e', 'a', 'f', 'g', 'b', 'c']\n",
    "# signalMapping = dict(list(zip(lettersList,encodedlist))\n",
    "# encodedNumberTest = 'cdfeb' # => abdfg => 5"
   ]
  },
  {
   "cell_type": "code",
   "execution_count": 123,
   "metadata": {},
   "outputs": [],
   "source": [
    "# may not need to use this\n",
    "\n",
    "# takes an encoded number string and returns decodedNumber as list in alphabetical order\n",
    "def decode_letters_string(encodedNumber: str, signalMapping: dict):\n",
    "    return ''.join(sorted([signalMapping[letter] for letter in list(encodedNumber)]))\n",
    "\n",
    "# decodedNumber = decode_letters_string(encodedNumberTest, signalMapping)"
   ]
  },
  {
   "cell_type": "code",
   "execution_count": 124,
   "metadata": {},
   "outputs": [],
   "source": [
    "# takes string input decoded number which is a signal to the display\n",
    "# and returns the integer value it represents\n",
    "def translate_2_seven_segment_num(decodedNumber):\n",
    "    NormalisedSignalsList = ['abcefg', 'cf', 'acdeg', 'acdfg', 'bcdf', 'abdfg', 'abdefg', 'acf', 'abcdefg', 'abcdfg']\n",
    "    lettersTranslateDict = dict(list(zip(NormalisedSignalsList,list(range(0,10)))))\n",
    "\n",
    "    if decodedNumber in lettersTranslateDict.keys():\n",
    "        return lettersTranslateDict[decodedNumber]\n",
    "    else:\n",
    "        ValueError\n",
    "\n",
    "# translate_2_seven_segment_num(decodedNumber)"
   ]
  }
 ],
 "metadata": {
  "kernelspec": {
   "display_name": "Python 3.9.13 64-bit (windows store)",
   "language": "python",
   "name": "python3"
  },
  "language_info": {
   "codemirror_mode": {
    "name": "ipython",
    "version": 3
   },
   "file_extension": ".py",
   "mimetype": "text/x-python",
   "name": "python",
   "nbconvert_exporter": "python",
   "pygments_lexer": "ipython3",
   "version": "3.9.13"
  },
  "orig_nbformat": 4,
  "vscode": {
   "interpreter": {
    "hash": "33035f574c9eef7ff8f01ee9196493be394cff9983d3f5cb1ef2b1416a6aa12a"
   }
  }
 },
 "nbformat": 4,
 "nbformat_minor": 2
}
