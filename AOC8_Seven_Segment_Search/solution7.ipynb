{
 "cells": [
  {
   "cell_type": "markdown",
   "metadata": {},
   "source": [
    "# Puzzle 8: Seven Segment Search - incomplete"
   ]
  },
  {
   "cell_type": "markdown",
   "metadata": {},
   "source": [
    "This puzzle seems much more challenging than those that came before."
   ]
  },
  {
   "cell_type": "code",
   "execution_count": 125,
   "metadata": {},
   "outputs": [
    {
     "name": "stdout",
     "output_type": "stream",
     "text": [
      "['eadbcf faceb faecgd gdefabc adc ad adbf gfacbe bceda dcegb ', ' gdfcae adc cedbfa dafb']\n"
     ]
    }
   ],
   "source": [
    "filename = \"input8.txt\"\n",
    "with open(filename,\"r\") as infile:\n",
    "    input = [line.strip().split(\"|\") for line in infile]\n",
    "\n",
    "print(input[0])"
   ]
  },
  {
   "cell_type": "code",
   "execution_count": 126,
   "metadata": {},
   "outputs": [
    {
     "name": "stdout",
     "output_type": "stream",
     "text": [
      "['eadbcf', 'faceb', 'faecgd', 'gdefabc', 'adc', 'ad', 'adbf', 'gfacbe', 'bceda', 'dcegb'] ['gdfcae', 'adc', 'cedbfa', 'dafb']\n",
      "(['eadbcf', 'faceb', 'faecgd', 'gdefabc', 'adc', 'ad', 'adbf', 'gfacbe', 'bceda', 'dcegb'], ['gdfcae', 'adc', 'cedbfa', 'dafb'])\n"
     ]
    }
   ],
   "source": [
    "AllsignalPatterns = [pattern[0].split() for pattern in input]\n",
    "AlloutputValues = [value[1].split() for value in input]\n",
    "combinedData = list(zip(AllsignalPatterns, AlloutputValues))\n",
    "print(AllsignalPatterns[0], AlloutputValues[0])\n",
    "print(combinedData[0])"
   ]
  },
  {
   "cell_type": "markdown",
   "metadata": {},
   "source": [
    "### Part 1\n",
    "The seven segment displays of 1   4   7   8, are unique in that they each are the only values to use 2,4,3,7 segments to display their value on the seven segment display."
   ]
  },
  {
   "cell_type": "code",
   "execution_count": 127,
   "metadata": {},
   "outputs": [
    {
     "name": "stdout",
     "output_type": "stream",
     "text": [
      "adc 3\n",
      "dafb 4\n"
     ]
    },
    {
     "data": {
      "text/plain": [
       "2"
      ]
     },
     "execution_count": 127,
     "metadata": {},
     "output_type": "execute_result"
    }
   ],
   "source": [
    "# count each of the occurences of these values in output values (method 1)\n",
    "count = 0\n",
    "for value in combinedData[0][1]:\n",
    "    if len(value) in (2,3,4,7):\n",
    "        print(value, len(value))\n",
    "        count += 1\n",
    "count"
   ]
  },
  {
   "cell_type": "code",
   "execution_count": 128,
   "metadata": {},
   "outputs": [
    {
     "name": "stdout",
     "output_type": "stream",
     "text": [
      "In the output values, the digits 1, 4, 7, or 8 appear a total of <539> times\n"
     ]
    }
   ],
   "source": [
    "# method 2, use a dictionary (or map as its called cpp)\n",
    "\n",
    "# convert the list of output values to a flat list\n",
    "oneDimensionalOutputvalues = [value for row in outputValues for value in row]\n",
    "# list of the lengths of each output value using map func\n",
    "lengthsOfOutputValues = list(map(lambda x: len(x), oneDimensionalOutputvalues))\n",
    "\n",
    "# count the total occurences of each length (so occurences of unique seven segment digits)\n",
    "from collections import Counter as counter\n",
    "countsOfLengths = counter(lengthsOfOutputValues) # {}\n",
    "\n",
    "total = 0\n",
    "for k,v in countsOfLengths.items():\n",
    "    if k in (2,3,4,7): # the unique digits\n",
    "        total += v\n",
    "        # print(k, v)\n",
    "print(f\"In the output values, the digits 1, 4, 7, or 8 appear a total of <{total}> times\") # answer to part 1\n"
   ]
  },
  {
   "cell_type": "markdown",
   "metadata": {},
   "source": [
    "### Part 2\n",
    "Determine the remaining digits"
   ]
  },
  {
   "cell_type": "code",
   "execution_count": 129,
   "metadata": {},
   "outputs": [
    {
     "name": "stdout",
     "output_type": "stream",
     "text": [
      "['edbfga', 'begcd', 'cbg', 'gc', 'gcadebf', 'fbgde', 'acbgfd', 'abcde', 'gfcbed', 'gfec']\n",
      "\n",
      "['fdgacbe', 'cefdb', 'cefbgd', 'gcbe']\n"
     ]
    }
   ],
   "source": [
    "#   0:     \n",
    "#  aaaa    \n",
    "# b    c  \n",
    "# b    c  \n",
    "#  dddd   \n",
    "# e    f  \n",
    "# e    f  \n",
    "#  gggg \n",
    "\n",
    "# load in the example from question\n",
    "# testSignalPatterns = 'acedgfb cdfbe gcdfa fbcad dab cefabd cdfgeb eafb cagedb ab'.split()\n",
    "testSignalPatterns = \"edbfga begcd cbg gc gcadebf fbgde acbgfd abcde gfcbed gfec\".split()\n",
    "# testOutputValues = \"cdfeb fcadb cdfeb cdbaf\".split()\n",
    "testOutputValues = \"fdgacbe cefdb cefbgd gcbe\".split()\n",
    "print(testSignalPatterns, testOutputValues, sep=\"\\n\\n\")"
   ]
  },
  {
   "cell_type": "markdown",
   "metadata": {},
   "source": [
    "Puzzle input consists of essentially line after line of the same type of scrambled codes. Each one is scrambled similarly as described in the puzzle description, but each line is a unique 'cypher', if it can be called that.\n",
    "\n",
    "Solved the example problem in the question, on paper. Next step is to design a set of functions to do this, so it can be performed quickly on every single line of the puzzle input."
   ]
  },
  {
   "cell_type": "code",
   "execution_count": 130,
   "metadata": {},
   "outputs": [
    {
     "name": "stdout",
     "output_type": "stream",
     "text": [
      "{'a': None, 'b': None, 'c': None, 'd': None, 'e': None, 'f': None, 'g': None}\n"
     ]
    }
   ],
   "source": [
    "lettersList = ['a', 'b', 'c', 'd', 'e', 'f', 'g']\n",
    "signalMapping = dict(list(zip(lettersList,[None]*10)))\n",
    "print(signalMapping)"
   ]
  },
  {
   "cell_type": "code",
   "execution_count": 131,
   "metadata": {},
   "outputs": [
    {
     "name": "stdout",
     "output_type": "stream",
     "text": [
      "{0: None, 1: 'gc', 2: None, 3: None, 4: 'gfec', 5: None, 6: None, 7: 'cbg', 8: 'gcadebf', 9: None}\n"
     ]
    }
   ],
   "source": [
    "# possibly remove decode approach and reuse signal mapping variable name for number translated\n",
    "\n",
    "# finds the encoded numbers (1,4,8,7) by looking at their unique lenghts of (2,4,7,3) respectively\n",
    "# returns dictionary of numbers (keys) and encoded strings (values)\n",
    "def find_unique_lengths(signalPatterns):\n",
    "    numbersTranslated = dict(list(zip(list(range(0,10)),[None]*10)))\n",
    "    uniqueLengths = {2:1, 4:4, 7:8, 3:7} # {length:integer represented}\n",
    "\n",
    "    for item in signalPatterns:\n",
    "        if len(item) in uniqueLengths.keys():\n",
    "            numbersTranslated[uniqueLengths[len(item)]] = item\n",
    "\n",
    "    return numbersTranslated\n",
    "\n",
    "numbersTranslated = find_unique_lengths(testSignalPatterns)\n",
    "print(numbersTranslated)"
   ]
  },
  {
   "cell_type": "markdown",
   "metadata": {},
   "source": [
    "The variable numbers translated will be used to compare to the output values to find out what integer they represent, in the puzzle input."
   ]
  },
  {
   "cell_type": "code",
   "execution_count": 132,
   "metadata": {},
   "outputs": [
    {
     "data": {
      "text/plain": [
       "'b'"
      ]
     },
     "execution_count": 132,
     "metadata": {},
     "output_type": "execute_result"
    }
   ],
   "source": [
    "# find the top segment signal code\n",
    "top = [i for i in numbersTranslated[7] if i not in numbersTranslated[1]][0]\n",
    "top"
   ]
  },
  {
   "cell_type": "markdown",
   "metadata": {},
   "source": [
    "Integer 1 is important as it contains only UR and LR segments. We can look at the three different signals with six segments. The pattern that does not contain both signals in the signal for 1, must be 6. This is because the three integers with 6 segments are 0, 6, and 9. 0 and 9 both incorporate the same segments as 1. "
   ]
  },
  {
   "cell_type": "code",
   "execution_count": 133,
   "metadata": {},
   "outputs": [
    {
     "name": "stdout",
     "output_type": "stream",
     "text": [
      "{0: None, 1: 'gc', 2: None, 3: None, 4: 'gfec', 5: None, 6: 'edbfga', 7: 'cbg', 8: 'gcadebf', 9: None}\n"
     ]
    }
   ],
   "source": [
    "def find_signals_length_6(signalPatterns):\n",
    "    return [s for s in signalPatterns if len(s) == 6]\n",
    "\n",
    "def find_signals_length_5(signalPatterns):\n",
    "    return [list(signal) for signal in signalPatterns if len(signal) == 5]\n",
    "\n",
    "# Find all integers that use 6 segments, by filtering signalPatterns for len(6)\n",
    "def find_pattern_for_six(signalPatterns: list, numbersTranslated: dict ):\n",
    "    one = numbersTranslated[1]\n",
    "    signalPatternsLengthSix = find_signals_length_6(signalPatterns)\n",
    "    six = [s for s in signalPatternsLengthSix if one not in s][0]\n",
    "    # both the list comprehensions evaluate to list of length 1\n",
    "    UR = [s for s in list(one) if s not in list(six)][0]\n",
    "    BR = list(filter(lambda x: x != UR, list(one)))[0]\n",
    "\n",
    "    return six, UR, BR\n",
    "\n",
    "six, UR, BR = find_pattern_for_six(testSignalPatterns, numbersTranslated)\n",
    "# add pattern for six to numberTranslated\n",
    "numbersTranslated[6] = six\n",
    "\n",
    "print(numbersTranslated)"
   ]
  },
  {
   "cell_type": "markdown",
   "metadata": {},
   "source": [
    "Find the middle segment, which allows us to distinguish between 0 and 9 integer signal patterns. We do this by looking at the remaining length 6 integer signal patterns and finding the signal characters (a ~ g, excluding the known characters), of which there are three. We will see that there are only two signal characters that differ between the remaining letters for each signal patterns. One of these letters will be present in all of the signal patterns of length five, that is integers 2,3,5. \n",
    "This signal is for the middle segment and allows us to determine the signal patterns for 0 and 9.\n",
    "\n",
    "As a consequence of this we will know the signal pattern of 9 since in the initial set of patterns of length 6, it is the only one to lack the BL segment. Thus 0 will be the other pattern. "
   ]
  },
  {
   "cell_type": "code",
   "execution_count": 134,
   "metadata": {},
   "outputs": [
    {
     "name": "stdout",
     "output_type": "stream",
     "text": [
      "{0: 'acbgfd', 1: 'gc', 2: None, 3: None, 4: 'gfec', 5: None, 6: 'edbfga', 7: 'cbg', 8: 'gcadebf', 9: 'edbfga'}\n"
     ]
    }
   ],
   "source": [
    "# removes known integer 6 from the signal patterns of length six filtered list\n",
    "def filter_int6_spl6(signalPatternsLength6, numbersTranslated):\n",
    "    # extract relevent known values\n",
    "    six, seven = numbersTranslated[6], numbersTranslated[7]\n",
    "    # remove the known singal pattern for integer 6\n",
    "    signalPatternsLength6 = [list(item) for item in signalPatternsLength6 if item != six]\n",
    "    # create new list of with these signal patterns excluding the know signal characters\n",
    "    return [list(filter(lambda x: x not in seven, item)) for item in signalPatternsLength6] # spl6\n",
    "\n",
    "# finds the middle segment signal from comparsion of spl6 and spl5\n",
    "def find_middle_vals(spl5, spl6):\n",
    "    # creates a list of element not common between spl5 and spl6 lists\n",
    "    potentialMiddleVals = list(set(spl6[0]).difference(spl6[1])) + list(set(spl6[1]).difference(spl6[0]))\n",
    "    return [s for s in potentialMiddleVals if s in spl5[0] and spl5[1] and spl5[2]][0] # middle segment signal\n",
    "\n",
    "def find_zero_and_nine(signalPatterns, numbersTranslated): \n",
    "    # create list of signal patterns length 5\n",
    "    spl5 =  find_signals_length_5(signalPatterns)\n",
    "\n",
    "    signalPatternsLength6 = find_signals_length_6(signalPatterns)\n",
    "    spl6 = filter_int6_spl6(signalPatternsLength6, numbersTranslated)\n",
    "    \n",
    "    middle = find_middle_vals(spl5,spl6)\n",
    "\n",
    "    for i,signal in enumerate(signalPatternsLength6):\n",
    "        if middle in signal:\n",
    "            nine = ''.join(signal)\n",
    "            zero = ''.join(signalPatternsLength6[i+1])\n",
    "        else:\n",
    "            nine = ''.join(signalPatternsLength6[i+1])\n",
    "            zero = ''.join(signal)\n",
    "        break\n",
    "    return nine, zero, middle\n",
    "\n",
    "nine, zero, middle = find_zero_and_nine(testSignalPatterns, numbersTranslated)\n",
    "numbersTranslated[9], numbersTranslated[0] = nine, zero\n",
    "print(numbersTranslated)\n"
   ]
  },
  {
   "cell_type": "markdown",
   "metadata": {},
   "source": [
    "Now to examine signal pattern for int 4, to determine the UL (upper left) signal character"
   ]
  },
  {
   "cell_type": "code",
   "execution_count": 135,
   "metadata": {},
   "outputs": [
    {
     "name": "stdout",
     "output_type": "stream",
     "text": [
      "g\n"
     ]
    }
   ],
   "source": [
    "def find_UL(four, middle, UR, BR):\n",
    "    UL = [item for item in list(four) if item not in middle or UR or BR][0]\n",
    "    return UL # Upper left UL\n",
    "\n",
    "UL = find_UL(numbersTranslated[4], middle, UR, BR)\n",
    "print(UL)\n"
   ]
  },
  {
   "cell_type": "markdown",
   "metadata": {},
   "source": [
    "We can now find the signal patterns associated with the integers 2,3,5."
   ]
  },
  {
   "cell_type": "code",
   "execution_count": 136,
   "metadata": {},
   "outputs": [
    {
     "name": "stdout",
     "output_type": "stream",
     "text": [
      "{0: 'acbgfd', 1: 'gc', 2: None, 3: None, 4: 'gfec', 5: 'begcd', 6: 'edbfga', 7: 'cbg', 8: 'gcadebf', 9: 'edbfga'}\n"
     ]
    }
   ],
   "source": [
    "def find_five(signalPatterns, UL):\n",
    "    spl5 = find_signals_length_5(signalPatterns)\n",
    "    spl5 = [''.join(s) for s in spl5] # make each signal pattern a string of chars\n",
    "    # only one element of spl5 will contain the UL character\n",
    "    return [s for s in spl5 if UL in s][0]\n",
    "\n",
    "five = find_five(testSignalPatterns,UL)\n",
    "numbersTranslated[5] = five\n",
    "print(numbersTranslated)"
   ]
  },
  {
   "cell_type": "markdown",
   "metadata": {},
   "source": [
    "We can now easily find the remaining integers' (2,3) signal patterns"
   ]
  },
  {
   "cell_type": "code",
   "execution_count": 137,
   "metadata": {},
   "outputs": [
    {
     "name": "stdout",
     "output_type": "stream",
     "text": [
      "{0: 'acbgfd', 1: 'gc', 2: 'fbgde', 3: 'abcde', 4: 'gfec', 5: 'begcd', 6: 'edbfga', 7: 'cbg', 8: 'gcadebf', 9: 'edbfga'}\n"
     ]
    }
   ],
   "source": [
    "def find_two_and_three(signalPatterns, numbersTranslated):\n",
    "    spl5 = find_signals_length_5(signalPatterns)\n",
    "    spl5.remove(list(numbersTranslated[5]))\n",
    "    spl5 = [''.join(s) for s in spl5]\n",
    "\n",
    "    for i, signal in enumerate(spl5):\n",
    "        if numbersTranslated[1][0] and numbersTranslated[1][1] in signal:\n",
    "            three = signal\n",
    "            spl5.remove(three)\n",
    "            two = spl5[0]\n",
    "    return two, three\n",
    "    \n",
    "two, three = find_two_and_three(testSignalPatterns, numbersTranslated)\n",
    "\n",
    "numbersTranslated[2] = two\n",
    "numbersTranslated[3] = three\n",
    "print(numbersTranslated)"
   ]
  },
  {
   "cell_type": "markdown",
   "metadata": {},
   "source": [
    "Using the hash table numberstranslated we can now solve all of the output values.\n",
    "\n",
    "First the signal patterns stored in the numbersTranslated dictionary need to be sorted so the characters are in alphabetical order."
   ]
  },
  {
   "cell_type": "code",
   "execution_count": 138,
   "metadata": {},
   "outputs": [
    {
     "name": "stdout",
     "output_type": "stream",
     "text": [
      "{0: 'abcdfg', 1: 'cg', 2: 'bdefg', 3: 'abcde', 4: 'cefg', 5: 'bcdeg', 6: 'abdefg', 7: 'bcg', 8: 'abcdefg', 9: 'abdefg'}\n"
     ]
    }
   ],
   "source": [
    "# takes a distionary and converts the values for each key to lists, sorts them alphabetically and then stores them as strings again in the dictionary.\n",
    "def sort_dictionary_strings_alphabetically(dictionary):\n",
    "    for k, v in dictionary.items():\n",
    "        v = ''.join(sorted(list(v)))\n",
    "        dictionary[k] = v\n",
    "    return dictionary\n",
    "\n",
    "numbersTranslated = sort_dictionary_strings_alphabetically(numbersTranslated)\n",
    "\n",
    "print(numbersTranslated)"
   ]
  },
  {
   "cell_type": "code",
   "execution_count": 139,
   "metadata": {},
   "outputs": [
    {
     "name": "stdout",
     "output_type": "stream",
     "text": [
      "['fdgacbe', 'cefdb', 'cefbgd', 'gcbe']\n",
      "['abcdefg', 'bcdef', 'bcdefg', 'bceg']\n"
     ]
    }
   ],
   "source": [
    "# sorts the signal patterns in the output values alphabetically\n",
    "print(testOutputValues)\n",
    "def sort_output_values_alphabetically(outputValues):\n",
    "    return [''.join(sorted(list(item))) for item in outputValues]\n",
    "\n",
    "testOutputValues = sort_output_values_alphabetically(testOutputValues)\n",
    "print(testOutputValues)"
   ]
  },
  {
   "cell_type": "code",
   "execution_count": 140,
   "metadata": {},
   "outputs": [
    {
     "name": "stdout",
     "output_type": "stream",
     "text": [
      "{'abcdfg': 0, 'cg': 1, 'bdefg': 2, 'abcde': 3, 'cefg': 4, 'bcdeg': 5, 'abdefg': 9, 'bcg': 7, 'abcdefg': 8}\n"
     ]
    }
   ],
   "source": [
    "# to look up the correct integer, reverse the keys and values in numbersTranslated\n",
    "def invert_dictionary(dictionary): \n",
    "    return {v:k for k,v in dictionary.items()}\n",
    "\n",
    "numbersTranslated = invert_dictionary(numbersTranslated)\n",
    "print(numbersTranslated)"
   ]
  },
  {
   "cell_type": "code",
   "execution_count": 141,
   "metadata": {},
   "outputs": [
    {
     "ename": "KeyError",
     "evalue": "'bcdef'",
     "output_type": "error",
     "traceback": [
      "\u001b[1;31m---------------------------------------------------------------------------\u001b[0m",
      "\u001b[1;31mKeyError\u001b[0m                                  Traceback (most recent call last)",
      "\u001b[1;32mc:\\Users\\Jordan Astley\\Desktop\\advent-of-code-2021\\AOC8_Seven_Segment_Search\\solution7.ipynb Cell 29\u001b[0m in \u001b[0;36m<cell line: 4>\u001b[1;34m()\u001b[0m\n\u001b[0;32m      <a href='vscode-notebook-cell:/c%3A/Users/Jordan%20Astley/Desktop/advent-of-code-2021/AOC8_Seven_Segment_Search/solution7.ipynb#X45sZmlsZQ%3D%3D?line=0'>1</a>\u001b[0m \u001b[39mdef\u001b[39;00m \u001b[39mfind_output_values\u001b[39m(outputValues, numbersTranslated):   \n\u001b[0;32m      <a href='vscode-notebook-cell:/c%3A/Users/Jordan%20Astley/Desktop/advent-of-code-2021/AOC8_Seven_Segment_Search/solution7.ipynb#X45sZmlsZQ%3D%3D?line=1'>2</a>\u001b[0m     \u001b[39mreturn\u001b[39;00m [numbersTranslated[value] \u001b[39mfor\u001b[39;00m value \u001b[39min\u001b[39;00m outputValues]\n\u001b[1;32m----> <a href='vscode-notebook-cell:/c%3A/Users/Jordan%20Astley/Desktop/advent-of-code-2021/AOC8_Seven_Segment_Search/solution7.ipynb#X45sZmlsZQ%3D%3D?line=3'>4</a>\u001b[0m integers \u001b[39m=\u001b[39m find_output_values(testOutputValues, numbersTranslated)\n\u001b[0;32m      <a href='vscode-notebook-cell:/c%3A/Users/Jordan%20Astley/Desktop/advent-of-code-2021/AOC8_Seven_Segment_Search/solution7.ipynb#X45sZmlsZQ%3D%3D?line=5'>6</a>\u001b[0m \u001b[39mprint\u001b[39m(integers)\n",
      "\u001b[1;32mc:\\Users\\Jordan Astley\\Desktop\\advent-of-code-2021\\AOC8_Seven_Segment_Search\\solution7.ipynb Cell 29\u001b[0m in \u001b[0;36mfind_output_values\u001b[1;34m(outputValues, numbersTranslated)\u001b[0m\n\u001b[0;32m      <a href='vscode-notebook-cell:/c%3A/Users/Jordan%20Astley/Desktop/advent-of-code-2021/AOC8_Seven_Segment_Search/solution7.ipynb#X45sZmlsZQ%3D%3D?line=0'>1</a>\u001b[0m \u001b[39mdef\u001b[39;00m \u001b[39mfind_output_values\u001b[39m(outputValues, numbersTranslated):   \n\u001b[1;32m----> <a href='vscode-notebook-cell:/c%3A/Users/Jordan%20Astley/Desktop/advent-of-code-2021/AOC8_Seven_Segment_Search/solution7.ipynb#X45sZmlsZQ%3D%3D?line=1'>2</a>\u001b[0m     \u001b[39mreturn\u001b[39;00m [numbersTranslated[value] \u001b[39mfor\u001b[39;00m value \u001b[39min\u001b[39;00m outputValues]\n",
      "\u001b[1;32mc:\\Users\\Jordan Astley\\Desktop\\advent-of-code-2021\\AOC8_Seven_Segment_Search\\solution7.ipynb Cell 29\u001b[0m in \u001b[0;36m<listcomp>\u001b[1;34m(.0)\u001b[0m\n\u001b[0;32m      <a href='vscode-notebook-cell:/c%3A/Users/Jordan%20Astley/Desktop/advent-of-code-2021/AOC8_Seven_Segment_Search/solution7.ipynb#X45sZmlsZQ%3D%3D?line=0'>1</a>\u001b[0m \u001b[39mdef\u001b[39;00m \u001b[39mfind_output_values\u001b[39m(outputValues, numbersTranslated):   \n\u001b[1;32m----> <a href='vscode-notebook-cell:/c%3A/Users/Jordan%20Astley/Desktop/advent-of-code-2021/AOC8_Seven_Segment_Search/solution7.ipynb#X45sZmlsZQ%3D%3D?line=1'>2</a>\u001b[0m     \u001b[39mreturn\u001b[39;00m [numbersTranslated[value] \u001b[39mfor\u001b[39;00m value \u001b[39min\u001b[39;00m outputValues]\n",
      "\u001b[1;31mKeyError\u001b[0m: 'bcdef'"
     ]
    }
   ],
   "source": [
    "def find_output_values(outputValues, numbersTranslated):   \n",
    "    return [numbersTranslated[value] for value in outputValues]\n",
    "\n",
    "integers = find_output_values(testOutputValues, numbersTranslated)\n",
    "\n",
    "print(integers)"
   ]
  },
  {
   "cell_type": "markdown",
   "metadata": {},
   "source": [
    "### Main Loop\n",
    "This demonstrates the process on an example, this loop does the same for every single set of signal patterns in the puzzle input."
   ]
  },
  {
   "cell_type": "code",
   "execution_count": null,
   "metadata": {},
   "outputs": [
    {
     "ename": "SyntaxError",
     "evalue": "invalid syntax (1102136943.py, line 1)",
     "output_type": "error",
     "traceback": [
      "\u001b[1;36m  Input \u001b[1;32mIn [105]\u001b[1;36m\u001b[0m\n\u001b[1;33m    def\u001b[0m\n\u001b[1;37m       ^\u001b[0m\n\u001b[1;31mSyntaxError\u001b[0m\u001b[1;31m:\u001b[0m invalid syntax\n"
     ]
    }
   ],
   "source": [
    "def"
   ]
  },
  {
   "cell_type": "markdown",
   "metadata": {},
   "source": [
    "The functions below are called on the output values after the | demlimiter"
   ]
  },
  {
   "cell_type": "code",
   "execution_count": null,
   "metadata": {},
   "outputs": [],
   "source": [
    "# # for testing\n",
    "# encodedlist = ['d', 'e', 'a', 'f', 'g', 'b', 'c']\n",
    "# signalMapping = dict(list(zip(lettersList,encodedlist))\n",
    "# encodedNumberTest = 'cdfeb' # => abdfg => 5"
   ]
  },
  {
   "cell_type": "code",
   "execution_count": null,
   "metadata": {},
   "outputs": [],
   "source": [
    "# may not need to use this\n",
    "\n",
    "# takes an encoded number string and returns decodedNumber as list in alphabetical order\n",
    "def decode_letters_string(encodedNumber: str, signalMapping: dict):\n",
    "    return ''.join(sorted([signalMapping[letter] for letter in list(encodedNumber)]))\n",
    "\n",
    "# decodedNumber = decode_letters_string(encodedNumberTest, signalMapping)"
   ]
  },
  {
   "cell_type": "code",
   "execution_count": null,
   "metadata": {},
   "outputs": [],
   "source": [
    "# takes string input decoded number which is a signal to the display\n",
    "# and returns the integer value it represents\n",
    "def translate_2_seven_segment_num(decodedNumber):\n",
    "    NormalisedSignalsList = ['abcefg', 'cf', 'acdeg', 'acdfg', 'bcdf', 'abdfg', 'abdefg', 'acf', 'abcdefg', 'abcdfg']\n",
    "    lettersTranslateDict = dict(list(zip(NormalisedSignalsList,list(range(0,10)))))\n",
    "\n",
    "    if decodedNumber in lettersTranslateDict.keys():\n",
    "        return lettersTranslateDict[decodedNumber]\n",
    "    else:\n",
    "        ValueError\n",
    "\n",
    "# translate_2_seven_segment_num(decodedNumber)"
   ]
  }
 ],
 "metadata": {
  "kernelspec": {
   "display_name": "Python 3.10.4 64-bit",
   "language": "python",
   "name": "python3"
  },
  "language_info": {
   "codemirror_mode": {
    "name": "ipython",
    "version": 3
   },
   "file_extension": ".py",
   "mimetype": "text/x-python",
   "name": "python",
   "nbconvert_exporter": "python",
   "pygments_lexer": "ipython3",
   "version": "3.10.4"
  },
  "orig_nbformat": 4,
  "vscode": {
   "interpreter": {
    "hash": "52634da84371cba311ea128a5ea7cdc41ff074b781779e754b270ff9f8153cee"
   }
  }
 },
 "nbformat": 4,
 "nbformat_minor": 2
}
