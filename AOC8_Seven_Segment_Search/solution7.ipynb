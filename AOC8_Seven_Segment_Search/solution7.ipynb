{
 "cells": [
  {
   "cell_type": "markdown",
   "metadata": {},
   "source": [
    "# Puzzle 8: Seven Segment Search"
   ]
  },
  {
   "cell_type": "markdown",
   "metadata": {},
   "source": [
    "This puzzle seems much more challenging than those that came before."
   ]
  },
  {
   "cell_type": "code",
   "execution_count": 17,
   "metadata": {},
   "outputs": [
    {
     "name": "stdout",
     "output_type": "stream",
     "text": [
      "['eadbcf faceb faecgd gdefabc adc ad adbf gfacbe bceda dcegb ', ' gdfcae adc cedbfa dafb']\n"
     ]
    }
   ],
   "source": [
    "filename = \"input8.txt\"\n",
    "with open(filename,\"r\") as infile:\n",
    "    input = [line.strip().split(\"|\") for line in infile]\n",
    "\n",
    "print(input[0])"
   ]
  },
  {
   "cell_type": "code",
   "execution_count": 21,
   "metadata": {},
   "outputs": [
    {
     "name": "stdout",
     "output_type": "stream",
     "text": [
      "['eadbcf', 'faceb', 'faecgd', 'gdefabc', 'adc', 'ad', 'adbf', 'gfacbe', 'bceda', 'dcegb'] ['gdfcae', 'adc', 'cedbfa', 'dafb']\n",
      "(['eadbcf', 'faceb', 'faecgd', 'gdefabc', 'adc', 'ad', 'adbf', 'gfacbe', 'bceda', 'dcegb'], ['gdfcae', 'adc', 'cedbfa', 'dafb'])\n"
     ]
    }
   ],
   "source": [
    "signalPatterns = [pattern[0].split() for pattern in input]\n",
    "outputValues = [value[1].split() for value in input]\n",
    "combinedData = list(zip(signalPatterns, outputValues))\n",
    "print(signalPatterns[0], outputValues[0])\n",
    "print(combinedData[0])"
   ]
  },
  {
   "cell_type": "markdown",
   "metadata": {},
   "source": [
    "### Part 1\n",
    "The seven segment displays of 1   4   7   8, are unique in that they each are the only values to use 2,4,3,7 segments to display their value on the seven segment display."
   ]
  },
  {
   "cell_type": "code",
   "execution_count": 28,
   "metadata": {},
   "outputs": [
    {
     "name": "stdout",
     "output_type": "stream",
     "text": [
      "adc 3\n",
      "dafb 4\n"
     ]
    },
    {
     "data": {
      "text/plain": [
       "2"
      ]
     },
     "execution_count": 28,
     "metadata": {},
     "output_type": "execute_result"
    }
   ],
   "source": [
    "# count each of the occurences of these values in output values (method 1)\n",
    "count = 0\n",
    "for value in combinedData[0][1]:\n",
    "    if len(value) in (2,3,4,7):\n",
    "        print(value, len(value))\n",
    "        count += 1\n",
    "count"
   ]
  },
  {
   "cell_type": "code",
   "execution_count": 46,
   "metadata": {},
   "outputs": [
    {
     "name": "stdout",
     "output_type": "stream",
     "text": [
      "In the output values, the digits 1, 4, 7, or 8 appear a total of <539> times\n"
     ]
    }
   ],
   "source": [
    "# method 2, use a dictionary (or map as its called cpp)\n",
    "\n",
    "# convert the list of output values to a flat list\n",
    "oneDimensionalOutputvalues = [value for row in outputValues for value in row]\n",
    "# list of the lengths of each output value using map func\n",
    "lengthsOfOutputValues = list(map(lambda x: len(x), oneDimensionalOutputvalues))\n",
    "\n",
    "# count the total occurences of each length (so occurences of unique seven segment digits)\n",
    "from collections import Counter as counter\n",
    "countsOfLengths = counter(lengthsOfOutputValues) # {}\n",
    "\n",
    "total = 0\n",
    "for k,v in countsOfLengths.items():\n",
    "    if k in (2,3,4,7): # the unique digits\n",
    "        total += v\n",
    "        # print(k, v)\n",
    "print(f\"In the output values, the digits 1, 4, 7, or 8 appear a total of <{total}> times\") # answer to part 1\n"
   ]
  },
  {
   "cell_type": "markdown",
   "metadata": {},
   "source": [
    "### Part 2\n",
    "Determine the remaining digits"
   ]
  }
 ],
 "metadata": {
  "kernelspec": {
   "display_name": "Python 3.9.13 64-bit (windows store)",
   "language": "python",
   "name": "python3"
  },
  "language_info": {
   "codemirror_mode": {
    "name": "ipython",
    "version": 3
   },
   "file_extension": ".py",
   "mimetype": "text/x-python",
   "name": "python",
   "nbconvert_exporter": "python",
   "pygments_lexer": "ipython3",
   "version": "3.9.13"
  },
  "orig_nbformat": 4,
  "vscode": {
   "interpreter": {
    "hash": "33035f574c9eef7ff8f01ee9196493be394cff9983d3f5cb1ef2b1416a6aa12a"
   }
  }
 },
 "nbformat": 4,
 "nbformat_minor": 2
}
