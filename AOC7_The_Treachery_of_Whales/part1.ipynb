{
 "cells": [
  {
   "cell_type": "markdown",
   "metadata": {},
   "source": [
    "# Puzzle 7: The Treachery of the Whales"
   ]
  },
  {
   "cell_type": "code",
   "execution_count": 105,
   "metadata": {},
   "outputs": [],
   "source": [
    "with open(\"input7.txt\", \"r\") as infile:\n",
    "    input = [int(line) for line in infile.read().strip().split(\",\")]"
   ]
  },
  {
   "cell_type": "markdown",
   "metadata": {},
   "source": [
    "Start by trying to match the example given in the question."
   ]
  },
  {
   "cell_type": "code",
   "execution_count": 106,
   "metadata": {},
   "outputs": [],
   "source": [
    "# input = [16,1,2,0,4,2,7,1,2,14] # for testing\n",
    "\n",
    "# initially make a function to find the total distance to given alignment point, e.g. 2\n",
    "# if a position happens to already be at the alignment point, its excluded\n",
    "# since no fuel is required to get there\n",
    "\n",
    "def find_greater_less_than_ap(currPosList,ap):\n",
    "    positionsGreaterThanAP = list(filter(lambda x: x > ap, currPosList)) # lambda function\n",
    "    positionsLessThanAP = list(filter(lambda x: x < ap, currPosList))\n",
    "    return positionsGreaterThanAP,positionsLessThanAP\n",
    "\n",
    "def find_total_diff(currPosList,ap): # alignment point ~ ap\n",
    "    totalDiff = []\n",
    "    positionsGreaterThanAP,positionsLessThanAP = find_greater_less_than_ap(currPosList,ap)\n",
    "    diff1 = list(map(lambda position: position-ap, positionsGreaterThanAP))\n",
    "    diff2 = list(map(lambda position: ap-position, positionsLessThanAP))\n",
    "    totalDiff = diff1 + diff2\n",
    "    return sum(totalDiff)"
   ]
  },
  {
   "cell_type": "markdown",
   "metadata": {},
   "source": [
    "Create a set of all possible alignment points. This will always be with the boundaries of the current horizontal positions.\n",
    "\n",
    "Create an empty dictionary/hashtable to store the total fuel used to align all the submarines to the to each position."
   ]
  },
  {
   "cell_type": "code",
   "execution_count": 107,
   "metadata": {},
   "outputs": [],
   "source": [
    "uniquePositions = list(set(input))\n",
    "allPossiblePositions = list(range(uniquePositions[0],uniquePositions[-1]+1))\n",
    "\n",
    "fuelUsages = dict(zip(allPossiblePositions, [0]*len(allPossiblePositions)))\n",
    "# print(fuelUsages)"
   ]
  },
  {
   "cell_type": "markdown",
   "metadata": {},
   "source": [
    "### Main loop function"
   ]
  },
  {
   "cell_type": "code",
   "execution_count": 108,
   "metadata": {},
   "outputs": [],
   "source": [
    "def calc_fuel_to_APs(currPosList,allPossiblePositions: list,fuelUsages: dict):\n",
    "    for ap in allPossiblePositions:\n",
    "        totalFuel = find_total_diff(currPosList,ap)\n",
    "        fuelUsages[ap] = totalFuel\n",
    "    return fuelUsages"
   ]
  },
  {
   "cell_type": "code",
   "execution_count": 109,
   "metadata": {},
   "outputs": [
    {
     "name": "stdout",
     "output_type": "stream",
     "text": [
      "Minimum amount of fuel that can be used is 352707 by aligning at position 376\n"
     ]
    }
   ],
   "source": [
    "fuelUsages = calc_fuel_to_APs(input,allPossiblePositions,fuelUsages)\n",
    "\n",
    "# fuelValues = list(fuelUsages.values()) # values extracted from dictionary\n",
    "# minFuelAnswer = min(fuelValues) # minimum amount of fuel that can be used (answer)\n",
    "# minFuelAnswerKey = fuelValues.index(minFuelAnswer) # index position in the list, used as dictionary key\n",
    "\n",
    "# getting dictionary key corresponding to the lowest value in the dictionary\n",
    "minFuelAnswerKey = [k for k,v in fuelUsages.items() if v == min(fuelUsages.values())][0] # better way to above, not relying on unordered dictionaries\n",
    "minFuelAnswer = fuelUsages[minFuelAnswerKey]\n",
    "\n",
    "print(f\"Minimum amount of fuel that can be used is {minFuelAnswer} by aligning at position {minFuelAnswerKey}\")"
   ]
  }
 ],
 "metadata": {
  "kernelspec": {
   "display_name": "Python 3.9.13 64-bit (windows store)",
   "language": "python",
   "name": "python3"
  },
  "language_info": {
   "codemirror_mode": {
    "name": "ipython",
    "version": 3
   },
   "file_extension": ".py",
   "mimetype": "text/x-python",
   "name": "python",
   "nbconvert_exporter": "python",
   "pygments_lexer": "ipython3",
   "version": "3.9.13"
  },
  "orig_nbformat": 4,
  "vscode": {
   "interpreter": {
    "hash": "33035f574c9eef7ff8f01ee9196493be394cff9983d3f5cb1ef2b1416a6aa12a"
   }
  }
 },
 "nbformat": 4,
 "nbformat_minor": 2
}
