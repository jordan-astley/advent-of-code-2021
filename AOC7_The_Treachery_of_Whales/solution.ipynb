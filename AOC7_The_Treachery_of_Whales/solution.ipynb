{
 "cells": [
  {
   "cell_type": "markdown",
   "metadata": {},
   "source": [
    "# Puzzle 7: The Treachery of the Whales"
   ]
  },
  {
   "cell_type": "code",
   "execution_count": 172,
   "metadata": {},
   "outputs": [],
   "source": [
    "with open(\"input7.txt\", \"r\") as infile:\n",
    "    input = [int(line) for line in infile.read().strip().split(\",\")]"
   ]
  },
  {
   "cell_type": "markdown",
   "metadata": {},
   "source": [
    "Start by trying to match the example given in the question."
   ]
  },
  {
   "cell_type": "code",
   "execution_count": 173,
   "metadata": {},
   "outputs": [],
   "source": [
    "# input = [16,1,2,0,4,2,7,1,2,14] # for testing\n",
    "\n",
    "# initially make a function to find the total distance to given alignment point, e.g. 2\n",
    "# if a position happens to already be at the alignment point, its excluded\n",
    "# since no fuel is required to get there\n",
    "\n",
    "def find_greater_less_than_ap(currPosList,ap):\n",
    "    positionsGreaterThanAP = list(filter(lambda x: x > ap, currPosList)) # lambda function\n",
    "    positionsLessThanAP = list(filter(lambda x: x < ap, currPosList))\n",
    "    return positionsGreaterThanAP,positionsLessThanAP\n",
    "\n",
    "def find_total_diff(currPosList,ap): # alignment point ~ ap\n",
    "    totalDiff = []\n",
    "    positionsGreaterThanAP,positionsLessThanAP = find_greater_less_than_ap(currPosList,ap)\n",
    "    diff1 = list(map(lambda position: position-ap, positionsGreaterThanAP))\n",
    "    diff2 = list(map(lambda position: ap-position, positionsLessThanAP))\n",
    "    totalDiff = diff1 + diff2\n",
    "    return sum(totalDiff)"
   ]
  },
  {
   "cell_type": "markdown",
   "metadata": {},
   "source": [
    "Create a set of all possible alignment points. This will always be with the boundaries of the current horizontal positions.\n",
    "\n",
    "Create an empty dictionary/hashtable to store the total fuel used to align all the submarines to the to each position."
   ]
  },
  {
   "cell_type": "code",
   "execution_count": 174,
   "metadata": {},
   "outputs": [],
   "source": [
    "uniquePositions = list(set(input))\n",
    "allPossiblePositions = list(range(uniquePositions[0],uniquePositions[-1]+1))\n",
    "\n",
    "fuelUsages = dict(zip(allPossiblePositions, [0]*len(allPossiblePositions)))\n",
    "# print(fuelUsages)"
   ]
  },
  {
   "cell_type": "markdown",
   "metadata": {},
   "source": [
    "### Main loop function"
   ]
  },
  {
   "cell_type": "code",
   "execution_count": 175,
   "metadata": {},
   "outputs": [],
   "source": [
    "def calc_fuel_to_APs(currPosList,allPossiblePositions: list,fuelUsages: dict):\n",
    "    for ap in allPossiblePositions:\n",
    "        totalFuel = find_total_diff(currPosList,ap)\n",
    "        fuelUsages[ap] = totalFuel\n",
    "    return fuelUsages"
   ]
  },
  {
   "cell_type": "code",
   "execution_count": 176,
   "metadata": {},
   "outputs": [],
   "source": [
    "fuelUsages = calc_fuel_to_APs(input,allPossiblePositions,fuelUsages)\n",
    "\n",
    "# fuelValues = list(fuelUsages.values()) # values extracted from dictionary\n",
    "# minFuelAnswer = min(fuelValues) # minimum amount of fuel that can be used (answer)\n",
    "# minFuelAnswerKey = fuelValues.index(minFuelAnswer) # index position in the list, used as dictionary key\n",
    "\n",
    "# getting dictionary key corresponding to the lowest value in the dictionary\n",
    "def get_answer(fuelUsages):\n",
    "    # better way to above, not relying on unordered dictionaries\n",
    "    minFuelAnswerKey = [k for k,v in fuelUsages.items() if v == min(fuelUsages.values())][0]\n",
    "    minFuelAnswer = fuelUsages[minFuelAnswerKey]\n",
    "    print(f\"Minimum amount of fuel that can be used is {minFuelAnswer} by aligning at position {minFuelAnswerKey}\")"
   ]
  },
  {
   "cell_type": "markdown",
   "metadata": {},
   "source": [
    "## Part 2\n",
    "\n",
    "Introduces a new penalty for movement, so adapting the previous function"
   ]
  },
  {
   "cell_type": "code",
   "execution_count": 177,
   "metadata": {},
   "outputs": [],
   "source": [
    "def find_distance(currPosition,ap):\n",
    "    if currPosition > ap:\n",
    "        steps = list(range(currPosition-ap))\n",
    "    else:\n",
    "        steps = list(range(ap-currPosition))\n",
    "    distance = sum(steps) + len(steps)\n",
    "    return distance\n",
    "\n",
    "def find_total_diff_with_movement_penalty(currPosList,ap): # alignment point ~ ap\n",
    "    totalDiff = []\n",
    "    positionsGreaterThanAP,positionsLessThanAP = find_greater_less_than_ap(currPosList,ap)\n",
    "    # convert int(ap) to a list: [ap, ap, ap, ..., Nap]\n",
    "    diff1 = list(map(find_distance, positionsGreaterThanAP, [ap]*len(positionsGreaterThanAP)))\n",
    "    diff2 = list(map(find_distance, positionsLessThanAP, [ap]*len(positionsLessThanAP)))\n",
    "    totalDiff = diff1 + diff2\n",
    "    \n",
    "    return sum(totalDiff)"
   ]
  },
  {
   "cell_type": "code",
   "execution_count": 178,
   "metadata": {},
   "outputs": [],
   "source": [
    "## new main loop function that uses the new distance calc algorithm\n",
    "def calc_fuel_to_APs_part2(currPosList, allPossiblePositions: list,fuelUsages: dict):\n",
    "    for ap in allPossiblePositions:\n",
    "        totalFuel = find_total_diff_with_movement_penalty(currPosList,ap)\n",
    "        fuelUsages[ap] = totalFuel\n",
    "    return fuelUsages"
   ]
  },
  {
   "cell_type": "code",
   "execution_count": 179,
   "metadata": {},
   "outputs": [
    {
     "name": "stdout",
     "output_type": "stream",
     "text": [
      "Minimum amount of fuel that can be used is 95519693 by aligning at position 490\n"
     ]
    }
   ],
   "source": [
    "uniquePositions = list(set(input))\n",
    "allPossiblePositions = list(range(uniquePositions[0],uniquePositions[-1]+1))\n",
    "\n",
    "# hashtable with keys for each possible position given by the puzzle input, with 0 values\n",
    "# The answer for the best alignment point will never be outside of the highest and lowest starting points\n",
    "fuelUsages = dict(zip(allPossiblePositions, [0]*len(allPossiblePositions)))\n",
    "\n",
    "# run the main loop again\n",
    "fuelUsages_Part2 = calc_fuel_to_APs_part2(input,allPossiblePositions, fuelUsages)\n",
    "\n",
    "# re-use the get_answer function again\n",
    "get_answer(fuelUsages_Part2)"
   ]
  }
 ],
 "metadata": {
  "kernelspec": {
   "display_name": "Python 3.9.13 64-bit (windows store)",
   "language": "python",
   "name": "python3"
  },
  "language_info": {
   "codemirror_mode": {
    "name": "ipython",
    "version": 3
   },
   "file_extension": ".py",
   "mimetype": "text/x-python",
   "name": "python",
   "nbconvert_exporter": "python",
   "pygments_lexer": "ipython3",
   "version": "3.9.13"
  },
  "orig_nbformat": 4,
  "vscode": {
   "interpreter": {
    "hash": "33035f574c9eef7ff8f01ee9196493be394cff9983d3f5cb1ef2b1416a6aa12a"
   }
  }
 },
 "nbformat": 4,
 "nbformat_minor": 2
}
