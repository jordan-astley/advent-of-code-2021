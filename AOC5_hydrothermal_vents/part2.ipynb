{
 "cells": [
  {
   "cell_type": "code",
   "execution_count": 15,
   "metadata": {},
   "outputs": [
    {
     "data": {
      "text/plain": [
       "['0,9 -> 5,9',\n",
       " '8,0 -> 0,8',\n",
       " '9,4 -> 3,4',\n",
       " '2,2 -> 2,1',\n",
       " '7,0 -> 7,4',\n",
       " '6,4 -> 2,0',\n",
       " '0,9 -> 2,9',\n",
       " '3,4 -> 1,4',\n",
       " '0,0 -> 8,8',\n",
       " '5,5 -> 8,2']"
      ]
     },
     "execution_count": 15,
     "metadata": {},
     "output_type": "execute_result"
    }
   ],
   "source": [
    "# filePath = \"vents_test.txt\"\n",
    "filePath = \"vents.txt\"\n",
    "\n",
    "def read_puzzle_input(filePath)->list:\n",
    "    with open(filePath,\"r\") as puzzleInput:\n",
    "        lines = [line.strip() for line in puzzleInput] # strip() to remove \\n\n",
    "                                                       # no following [] since want entire file contents\n",
    "    return lines\n",
    "\n",
    "listOfcoords = read_puzzle_input(filePath)\n",
    "listOfcoords"
   ]
  },
  {
   "cell_type": "code",
   "execution_count": 16,
   "metadata": {},
   "outputs": [
    {
     "data": {
      "text/plain": [
       "[['0,9', '5,9'],\n",
       " ['8,0', '0,8'],\n",
       " ['9,4', '3,4'],\n",
       " ['2,2', '2,1'],\n",
       " ['7,0', '7,4'],\n",
       " ['6,4', '2,0'],\n",
       " ['0,9', '2,9'],\n",
       " ['3,4', '1,4'],\n",
       " ['0,0', '8,8'],\n",
       " ['5,5', '8,2']]"
      ]
     },
     "execution_count": 16,
     "metadata": {},
     "output_type": "execute_result"
    }
   ],
   "source": [
    "# def format_puzzle_input(listOfcoords)->list:\n",
    "coords = [item.split(' -> ') for item in listOfcoords]\n",
    "coords"
   ]
  },
  {
   "cell_type": "code",
   "execution_count": 17,
   "metadata": {},
   "outputs": [
    {
     "data": {
      "text/plain": [
       "[[['0', '9'], ['5', '9']],\n",
       " [['8', '0'], ['0', '8']],\n",
       " [['9', '4'], ['3', '4']],\n",
       " [['2', '2'], ['2', '1']],\n",
       " [['7', '0'], ['7', '4']],\n",
       " [['6', '4'], ['2', '0']],\n",
       " [['0', '9'], ['2', '9']],\n",
       " [['3', '4'], ['1', '4']],\n",
       " [['0', '0'], ['8', '8']],\n",
       " [['5', '5'], ['8', '2']]]"
      ]
     },
     "execution_count": 17,
     "metadata": {},
     "output_type": "execute_result"
    }
   ],
   "source": [
    "for index,element in enumerate(coords):\n",
    "    coords[index] = [item.split(',') for item in coords[index]]\n",
    "coords"
   ]
  },
  {
   "cell_type": "code",
   "execution_count": 18,
   "metadata": {},
   "outputs": [
    {
     "data": {
      "text/plain": [
       "[[[0, 9], [5, 9]],\n",
       " [[8, 0], [0, 8]],\n",
       " [[9, 4], [3, 4]],\n",
       " [[2, 2], [2, 1]],\n",
       " [[7, 0], [7, 4]],\n",
       " [[6, 4], [2, 0]],\n",
       " [[0, 9], [2, 9]],\n",
       " [[3, 4], [1, 4]],\n",
       " [[0, 0], [8, 8]],\n",
       " [[5, 5], [8, 2]]]"
      ]
     },
     "execution_count": 18,
     "metadata": {},
     "output_type": "execute_result"
    }
   ],
   "source": [
    "for coordinatePairIndex,element in enumerate(coords):\n",
    "    for coordinateSubIndex,_ in enumerate(element):\n",
    "        coords[coordinatePairIndex][coordinateSubIndex] = [int(item) for item in coords[coordinatePairIndex][coordinateSubIndex]]\n",
    "coords"
   ]
  },
  {
   "cell_type": "markdown",
   "metadata": {},
   "source": [
    "logic to create coordinates in straight line between two initial coordintates, note line will be parallel with x or y axis"
   ]
  },
  {
   "cell_type": "code",
   "execution_count": 19,
   "metadata": {},
   "outputs": [],
   "source": [
    "test1 = [[0,9],[5,9]]\n",
    "test2 = [[2,2],[2,1]]\n",
    "test3 = [[9,4],[3,4]]\n",
    "test4 = [[10,0],[0,0]]\n",
    "test5 = [[0,10],[0,0]]\n",
    "\n",
    "test6 = [[1,1],[5,5]]\n",
    "test7 = [[5,3],[8,6]]\n",
    "test8 = [[10,7],[5,2]]   \n",
    "\n",
    "def parallelx(coordinatePair)->str:\n",
    "    if coordinatePair[0][1] == coordinatePair[1][1]:\n",
    "        return  '2y' # line has 2 equal y values, so is parallel with x axis\n",
    "    elif coordinatePair[0][0] == coordinatePair[1][0]:\n",
    "        return '2x' # line has 2 equal x values, so it parallel with y axis\n",
    "    elif (coordinatePair[0][1] != coordinatePair[1][1]) and (coordinatePair[0][0] != coordinatePair[1][0]):\n",
    "        return 'diag' # no equal values, this is a diagonal line\n",
    "\n",
    "def setYvalues_from_pair_of_coordinates(coordinatePair):\n",
    "    if (coordinatePair[0][1]) < (coordinatePair[1][1]): # case where y1 is less than y2\n",
    "            y_values = list(range(coordinatePair[0][1]+1, coordinatePair[1][1], 1))\n",
    "    elif (coordinatePair[0][1]) > (coordinatePair[1][1]): # case where y1 is greater than y2\n",
    "        y_values = list(range(coordinatePair[1][1]+1, coordinatePair[0][1], 1))\n",
    "        y_values.reverse()\n",
    "    return y_values\n",
    "\n",
    "def setXvalues_from_pair_of_coordinates(coordinatePair):\n",
    "    if (coordinatePair[0][0]) < (coordinatePair[1][0]): # case where x1 is less than x2\n",
    "        x_values = list(range(coordinatePair[0][0]+1, coordinatePair[1][0], 1))\n",
    "    elif (coordinatePair[0][0]) > (coordinatePair[1][0]): # case where x1 is greater than x2\n",
    "        x_values = list(range(coordinatePair[1][0]+1, coordinatePair[0][0], 1))\n",
    "        x_values.reverse()\n",
    "\n",
    "    return x_values  \n",
    "\n",
    "\n",
    "def make_line_between_points(coordinatePair):\n",
    "    n = 1\n",
    "    if parallelx(coordinatePair) == '2y':\n",
    "        x_values = setXvalues_from_pair_of_coordinates(coordinatePair)\n",
    "        y = coordinatePair[0][1] # y values equal for x parallel line\n",
    "        for item in x_values:\n",
    "            coordinatePair.insert(n,[item,y])\n",
    "            n += 1\n",
    "    elif parallelx(coordinatePair) == '2x':\n",
    "        y_values = setYvalues_from_pair_of_coordinates(coordinatePair)\n",
    "        x = coordinatePair[0][0] # x values equal for y parallel line\n",
    "        for item in y_values:\n",
    "            coordinatePair.insert(n,[x,item])\n",
    "            n += 1\n",
    "    elif parallelx(coordinatePair) == 'diag': # both x and y vary linearly, diagonal line\n",
    "        x_values = setXvalues_from_pair_of_coordinates(coordinatePair)\n",
    "        y_values = setYvalues_from_pair_of_coordinates(coordinatePair)\n",
    "        for i in range(len(x_values)): # same as len(y_values)\n",
    "            coordinatePair.insert(n,[x_values[i],y_values[i]])\n",
    "            n += 1\n",
    "\n",
    "    return coordinatePair\n",
    "\n",
    "# print(make_line_between_points(test6))\n",
    "# print(make_line_between_points(test7))\n",
    "# print(make_line_between_points(test8)) \n",
    "# print(make_line_between_points(test2))\n",
    "# print(make_line_between_points(test3))\n",
    "# print(make_line_between_points(test4))\n",
    "# print(make_line_between_points(test5))"
   ]
  },
  {
   "cell_type": "markdown",
   "metadata": {},
   "source": [
    "### Iterate over the entire list of coordinates"
   ]
  },
  {
   "cell_type": "code",
   "execution_count": 20,
   "metadata": {},
   "outputs": [
    {
     "data": {
      "text/plain": [
       "[[[0, 9], [1, 9], [2, 9], [3, 9], [4, 9], [5, 9]],\n",
       " [[8, 0], [7, 1], [6, 2], [5, 3], [4, 4], [3, 5], [2, 6], [1, 7], [0, 8]],\n",
       " [[9, 4], [8, 4], [7, 4], [6, 4], [5, 4], [4, 4], [3, 4]],\n",
       " [[2, 2], [2, 1]],\n",
       " [[7, 0], [7, 1], [7, 2], [7, 3], [7, 4]],\n",
       " [[6, 4], [5, 3], [4, 2], [3, 1], [2, 0]],\n",
       " [[0, 9], [1, 9], [2, 9]],\n",
       " [[3, 4], [2, 4], [1, 4]],\n",
       " [[0, 0], [1, 1], [2, 2], [3, 3], [4, 4], [5, 5], [6, 6], [7, 7], [8, 8]],\n",
       " [[5, 5], [6, 4], [7, 3], [8, 2]]]"
      ]
     },
     "execution_count": 20,
     "metadata": {},
     "output_type": "execute_result"
    }
   ],
   "source": [
    "for index,coordinatePair in enumerate(coords):\n",
    "    coords[index] = make_line_between_points(coordinatePair)\n",
    "    \n",
    "coords"
   ]
  },
  {
   "cell_type": "code",
   "execution_count": 21,
   "metadata": {},
   "outputs": [],
   "source": [
    "# [:] fix for removing items from list \n",
    "# without destroying the indexes\n",
    "# Creates a copy of the list.\n",
    "# Alternatively create new list with items to delete and then 'for item not in'\n",
    "\n",
    "# for item in coords[:]:\n",
    "#     if (item[0][0] != item[-1][0]) and (item[0][1] != item[-1][1]):\n",
    "#         # if neither x1 = x2 or y1 = y2 remove this item\n",
    "#         coords.remove(item)\n",
    "# coords"
   ]
  },
  {
   "cell_type": "markdown",
   "metadata": {},
   "source": [
    "### Count the number of points that occur at least more than once"
   ]
  },
  {
   "cell_type": "code",
   "execution_count": 22,
   "metadata": {},
   "outputs": [
    {
     "data": {
      "text/plain": [
       "[(0, 9),\n",
       " (1, 9),\n",
       " (2, 9),\n",
       " (3, 9),\n",
       " (4, 9),\n",
       " (5, 9),\n",
       " (8, 0),\n",
       " (7, 1),\n",
       " (6, 2),\n",
       " (5, 3),\n",
       " (4, 4),\n",
       " (3, 5),\n",
       " (2, 6),\n",
       " (1, 7),\n",
       " (0, 8),\n",
       " (9, 4),\n",
       " (8, 4),\n",
       " (7, 4),\n",
       " (6, 4),\n",
       " (5, 4),\n",
       " (4, 4),\n",
       " (3, 4),\n",
       " (2, 2),\n",
       " (2, 1),\n",
       " (7, 0),\n",
       " (7, 1),\n",
       " (7, 2),\n",
       " (7, 3),\n",
       " (7, 4),\n",
       " (6, 4),\n",
       " (5, 3),\n",
       " (4, 2),\n",
       " (3, 1),\n",
       " (2, 0),\n",
       " (0, 9),\n",
       " (1, 9),\n",
       " (2, 9),\n",
       " (3, 4),\n",
       " (2, 4),\n",
       " (1, 4),\n",
       " (0, 0),\n",
       " (1, 1),\n",
       " (2, 2),\n",
       " (3, 3),\n",
       " (4, 4),\n",
       " (5, 5),\n",
       " (6, 6),\n",
       " (7, 7),\n",
       " (8, 8),\n",
       " (5, 5),\n",
       " (6, 4),\n",
       " (7, 3),\n",
       " (8, 2)]"
      ]
     },
     "execution_count": 22,
     "metadata": {},
     "output_type": "execute_result"
    }
   ],
   "source": [
    "dismantledLinesCoords = [item for elem in coords for item in elem]\n",
    "# dismantledLinesCoords = [str(item) for item in dismantledLinesCoords]\n",
    "# flat list of strings, data structure changed, and lists become tuples\n",
    "dismantledLinesCoords = [tuple(x) for x in dismantledLinesCoords]\n",
    "dismantledLinesCoords\n"
   ]
  },
  {
   "cell_type": "code",
   "execution_count": 23,
   "metadata": {},
   "outputs": [],
   "source": [
    "\n",
    "uniquePoints = tuple(set(dismantledLinesCoords)) # set is the unique values from the list\n",
    "# hash table of the unique objects\n",
    "# Can only contain immutable objects, so no lists\n",
    "# uniquePoints # converted the set to a list"
   ]
  },
  {
   "cell_type": "code",
   "execution_count": 24,
   "metadata": {},
   "outputs": [],
   "source": [
    "# totalledPoints = []\n",
    "# for uniquePoint in uniquePoints:\n",
    "#     count = 0\n",
    "#     for point in dismantledLinesCoords:\n",
    "#         if point == uniquePoint:\n",
    "#             count += 1 \n",
    "#     totalledPoints.append(count)\n",
    "\n",
    "# totalledPoints = []\n",
    "# for item in uniquePoints:\n",
    "#     totalledPoints.append(dismantledLinesCoords.count(item))S\n",
    "\n",
    "totalledPoints = [dismantledLinesCoords.count(item) for item in uniquePoints]"
   ]
  },
  {
   "cell_type": "code",
   "execution_count": 25,
   "metadata": {},
   "outputs": [
    {
     "data": {
      "text/plain": [
       "(2,\n",
       " 1,\n",
       " 1,\n",
       " 1,\n",
       " 1,\n",
       " 2,\n",
       " 1,\n",
       " 2,\n",
       " 2,\n",
       " 1,\n",
       " 2,\n",
       " 1,\n",
       " 1,\n",
       " 1,\n",
       " 1,\n",
       " 2,\n",
       " 1,\n",
       " 1,\n",
       " 1,\n",
       " 1,\n",
       " 1,\n",
       " 1,\n",
       " 1,\n",
       " 3,\n",
       " 2,\n",
       " 1,\n",
       " 3,\n",
       " 2,\n",
       " 1,\n",
       " 1,\n",
       " 1,\n",
       " 2,\n",
       " 1,\n",
       " 1,\n",
       " 2,\n",
       " 1,\n",
       " 1,\n",
       " 1,\n",
       " 1)"
      ]
     },
     "execution_count": 25,
     "metadata": {},
     "output_type": "execute_result"
    }
   ],
   "source": [
    "tuple(totalledPoints)"
   ]
  },
  {
   "cell_type": "markdown",
   "metadata": {},
   "source": [
    "### How many points exist where at least 2 lines overlap?"
   ]
  },
  {
   "cell_type": "code",
   "execution_count": 26,
   "metadata": {},
   "outputs": [
    {
     "data": {
      "text/plain": [
       "12"
      ]
     },
     "execution_count": 26,
     "metadata": {},
     "output_type": "execute_result"
    }
   ],
   "source": [
    "counter = 0\n",
    "for item in totalledPoints:\n",
    "    if item >= 2:\n",
    "        counter += 1\n",
    "\n",
    "counter\n",
    "# counter = 0\n",
    "# for item in list(combinedTotalledPoints):\n",
    "#     print(item)\n",
    "#     if item[1] >= 2:\n",
    "#         counter += 1\n"
   ]
  }
 ],
 "metadata": {
  "kernelspec": {
   "display_name": "Python 3.9.13 64-bit (windows store)",
   "language": "python",
   "name": "python3"
  },
  "language_info": {
   "codemirror_mode": {
    "name": "ipython",
    "version": 3
   },
   "file_extension": ".py",
   "mimetype": "text/x-python",
   "name": "python",
   "nbconvert_exporter": "python",
   "pygments_lexer": "ipython3",
   "version": "3.9.13"
  },
  "orig_nbformat": 4,
  "vscode": {
   "interpreter": {
    "hash": "33035f574c9eef7ff8f01ee9196493be394cff9983d3f5cb1ef2b1416a6aa12a"
   }
  }
 },
 "nbformat": 4,
 "nbformat_minor": 2
}
